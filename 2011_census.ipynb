{
 "cells": [
  {
   "cell_type": "markdown",
   "id": "14b13d7e-5df6-4115-9fef-d7d3c0e12c2a",
   "metadata": {},
   "source": [
    "## Setting up dataset for 2011 qualification data with age"
   ]
  },
  {
   "cell_type": "code",
   "execution_count": 1,
   "id": "270cc54b-1dc1-446d-8338-05bbbe0e371f",
   "metadata": {},
   "outputs": [],
   "source": [
    "import pandas as pd\n",
    "import numpy as np\n",
    "\n",
    "import matplotlib.pyplot as plt\n",
    "import seaborn as sns"
   ]
  },
  {
   "cell_type": "code",
   "execution_count": 2,
   "id": "498a77a3-b7ca-44b4-937f-a2703866b794",
   "metadata": {},
   "outputs": [],
   "source": [
    "data = pd.read_excel('./raw_datasets/2011_qualification_age_westminster.xlsx',sheet_name=0)"
   ]
  },
  {
   "cell_type": "code",
   "execution_count": 3,
   "id": "b753f51e-96da-4764-b111-788cdc4e1c8d",
   "metadata": {},
   "outputs": [
    {
     "data": {
      "text/plain": [
       "Index(['Area Name', 'Area Code', 'Age Group', 'No qualifications',\n",
       "       'Level 1 qualifications', 'Level 2 qualifications', 'Apprenticeship',\n",
       "       'Level 3 qualifications', 'Level 4 qualifications and above',\n",
       "       'Other qualifications',\n",
       "       'All categories: Highest level of qualification'],\n",
       "      dtype='object')"
      ]
     },
     "execution_count": 3,
     "metadata": {},
     "output_type": "execute_result"
    }
   ],
   "source": [
    "data.columns"
   ]
  },
  {
   "cell_type": "markdown",
   "id": "988f0607-61b0-4a0b-a73a-b0aeec26cb42",
   "metadata": {},
   "source": [
    "## Create a single columns for apprenticeship and Other qualifications = Others"
   ]
  },
  {
   "cell_type": "code",
   "execution_count": 4,
   "id": "3b54f512-b507-4d09-bc26-be4c9cac414b",
   "metadata": {},
   "outputs": [],
   "source": [
    "data['Others'] = data.apply(lambda row: row['Apprenticeship'] + row['Other qualifications'],axis=1)"
   ]
  },
  {
   "cell_type": "code",
   "execution_count": 5,
   "id": "df7491a8-3df3-4d39-b56f-34cc45929776",
   "metadata": {},
   "outputs": [],
   "source": [
    "data.drop(columns=['Apprenticeship','Other qualifications','All categories: Highest level of qualification'],axis=1,inplace=True)"
   ]
  },
  {
   "cell_type": "markdown",
   "id": "0af742ec-e64c-4d8c-b4a7-a569c3732601",
   "metadata": {},
   "source": [
    "## TO:DO == Use the dataset for pivot of qualification and age"
   ]
  },
  {
   "cell_type": "code",
   "execution_count": 6,
   "id": "c3759f63-9c53-4686-91cc-65ffa9bf4630",
   "metadata": {},
   "outputs": [
    {
     "data": {
      "text/html": [
       "<div>\n",
       "<style scoped>\n",
       "    .dataframe tbody tr th:only-of-type {\n",
       "        vertical-align: middle;\n",
       "    }\n",
       "\n",
       "    .dataframe tbody tr th {\n",
       "        vertical-align: top;\n",
       "    }\n",
       "\n",
       "    .dataframe thead th {\n",
       "        text-align: right;\n",
       "    }\n",
       "</style>\n",
       "<table border=\"1\" class=\"dataframe\">\n",
       "  <thead>\n",
       "    <tr style=\"text-align: right;\">\n",
       "      <th></th>\n",
       "      <th>Area Name</th>\n",
       "      <th>Area Code</th>\n",
       "      <th>Age Group</th>\n",
       "      <th>No qualifications</th>\n",
       "      <th>Level 1 qualifications</th>\n",
       "      <th>Level 2 qualifications</th>\n",
       "      <th>Level 3 qualifications</th>\n",
       "      <th>Level 4 qualifications and above</th>\n",
       "      <th>Others</th>\n",
       "    </tr>\n",
       "  </thead>\n",
       "  <tbody>\n",
       "    <tr>\n",
       "      <th>0</th>\n",
       "      <td>Berwick-upon-Tweed</td>\n",
       "      <td>E14000554</td>\n",
       "      <td>Age 25 to 34</td>\n",
       "      <td>723</td>\n",
       "      <td>1183</td>\n",
       "      <td>1611</td>\n",
       "      <td>1436</td>\n",
       "      <td>1988</td>\n",
       "      <td>395</td>\n",
       "    </tr>\n",
       "    <tr>\n",
       "      <th>1</th>\n",
       "      <td>Bishop Auckland</td>\n",
       "      <td>E14000569</td>\n",
       "      <td>Age 25 to 34</td>\n",
       "      <td>1208</td>\n",
       "      <td>1251</td>\n",
       "      <td>1819</td>\n",
       "      <td>1925</td>\n",
       "      <td>2447</td>\n",
       "      <td>423</td>\n",
       "    </tr>\n",
       "    <tr>\n",
       "      <th>2</th>\n",
       "      <td>Blaydon</td>\n",
       "      <td>E14000574</td>\n",
       "      <td>Age 25 to 34</td>\n",
       "      <td>743</td>\n",
       "      <td>1281</td>\n",
       "      <td>1833</td>\n",
       "      <td>1925</td>\n",
       "      <td>3643</td>\n",
       "      <td>445</td>\n",
       "    </tr>\n",
       "    <tr>\n",
       "      <th>3</th>\n",
       "      <td>Blyth Valley</td>\n",
       "      <td>E14000575</td>\n",
       "      <td>Age 25 to 34</td>\n",
       "      <td>898</td>\n",
       "      <td>1456</td>\n",
       "      <td>2109</td>\n",
       "      <td>2053</td>\n",
       "      <td>2672</td>\n",
       "      <td>406</td>\n",
       "    </tr>\n",
       "    <tr>\n",
       "      <th>4</th>\n",
       "      <td>City of Durham</td>\n",
       "      <td>E14000641</td>\n",
       "      <td>Age 25 to 34</td>\n",
       "      <td>905</td>\n",
       "      <td>1176</td>\n",
       "      <td>1696</td>\n",
       "      <td>1735</td>\n",
       "      <td>5362</td>\n",
       "      <td>493</td>\n",
       "    </tr>\n",
       "    <tr>\n",
       "      <th>5</th>\n",
       "      <td>Darlington</td>\n",
       "      <td>E14000658</td>\n",
       "      <td>Age 25 to 34</td>\n",
       "      <td>1496</td>\n",
       "      <td>1566</td>\n",
       "      <td>2176</td>\n",
       "      <td>2280</td>\n",
       "      <td>3530</td>\n",
       "      <td>708</td>\n",
       "    </tr>\n",
       "    <tr>\n",
       "      <th>6</th>\n",
       "      <td>Easington</td>\n",
       "      <td>E14000677</td>\n",
       "      <td>Age 25 to 34</td>\n",
       "      <td>1497</td>\n",
       "      <td>1691</td>\n",
       "      <td>2284</td>\n",
       "      <td>1911</td>\n",
       "      <td>2329</td>\n",
       "      <td>448</td>\n",
       "    </tr>\n",
       "    <tr>\n",
       "      <th>7</th>\n",
       "      <td>Gateshead</td>\n",
       "      <td>E14000709</td>\n",
       "      <td>Age 25 to 34</td>\n",
       "      <td>1873</td>\n",
       "      <td>1859</td>\n",
       "      <td>2299</td>\n",
       "      <td>2136</td>\n",
       "      <td>5948</td>\n",
       "      <td>915</td>\n",
       "    </tr>\n",
       "    <tr>\n",
       "      <th>8</th>\n",
       "      <td>Hartlepool</td>\n",
       "      <td>E14000733</td>\n",
       "      <td>Age 25 to 34</td>\n",
       "      <td>1553</td>\n",
       "      <td>1475</td>\n",
       "      <td>2178</td>\n",
       "      <td>2143</td>\n",
       "      <td>2781</td>\n",
       "      <td>525</td>\n",
       "    </tr>\n",
       "    <tr>\n",
       "      <th>9</th>\n",
       "      <td>Hexham</td>\n",
       "      <td>E14000746</td>\n",
       "      <td>Age 25 to 34</td>\n",
       "      <td>334</td>\n",
       "      <td>736</td>\n",
       "      <td>1128</td>\n",
       "      <td>1210</td>\n",
       "      <td>2574</td>\n",
       "      <td>317</td>\n",
       "    </tr>\n",
       "  </tbody>\n",
       "</table>\n",
       "</div>"
      ],
      "text/plain": [
       "            Area Name  Area Code     Age Group  No qualifications  \\\n",
       "0  Berwick-upon-Tweed  E14000554  Age 25 to 34                723   \n",
       "1     Bishop Auckland  E14000569  Age 25 to 34               1208   \n",
       "2             Blaydon  E14000574  Age 25 to 34                743   \n",
       "3        Blyth Valley  E14000575  Age 25 to 34                898   \n",
       "4      City of Durham  E14000641  Age 25 to 34                905   \n",
       "5          Darlington  E14000658  Age 25 to 34               1496   \n",
       "6           Easington  E14000677  Age 25 to 34               1497   \n",
       "7           Gateshead  E14000709  Age 25 to 34               1873   \n",
       "8          Hartlepool  E14000733  Age 25 to 34               1553   \n",
       "9              Hexham  E14000746  Age 25 to 34                334   \n",
       "\n",
       "   Level 1 qualifications  Level 2 qualifications  Level 3 qualifications  \\\n",
       "0                    1183                    1611                    1436   \n",
       "1                    1251                    1819                    1925   \n",
       "2                    1281                    1833                    1925   \n",
       "3                    1456                    2109                    2053   \n",
       "4                    1176                    1696                    1735   \n",
       "5                    1566                    2176                    2280   \n",
       "6                    1691                    2284                    1911   \n",
       "7                    1859                    2299                    2136   \n",
       "8                    1475                    2178                    2143   \n",
       "9                     736                    1128                    1210   \n",
       "\n",
       "   Level 4 qualifications and above  Others  \n",
       "0                              1988     395  \n",
       "1                              2447     423  \n",
       "2                              3643     445  \n",
       "3                              2672     406  \n",
       "4                              5362     493  \n",
       "5                              3530     708  \n",
       "6                              2329     448  \n",
       "7                              5948     915  \n",
       "8                              2781     525  \n",
       "9                              2574     317  "
      ]
     },
     "execution_count": 6,
     "metadata": {},
     "output_type": "execute_result"
    }
   ],
   "source": [
    "data.head(10)"
   ]
  },
  {
   "cell_type": "code",
   "execution_count": 7,
   "id": "d35d1717-b3ee-4477-83c1-003d47dcb763",
   "metadata": {},
   "outputs": [
    {
     "data": {
      "text/plain": [
       "Area Name                           0\n",
       "Area Code                           0\n",
       "Age Group                           0\n",
       "No qualifications                   0\n",
       "Level 1 qualifications              0\n",
       "Level 2 qualifications              0\n",
       "Level 3 qualifications              0\n",
       "Level 4 qualifications and above    0\n",
       "Others                              0\n",
       "dtype: int64"
      ]
     },
     "execution_count": 7,
     "metadata": {},
     "output_type": "execute_result"
    }
   ],
   "source": [
    "data.isna().sum()"
   ]
  },
  {
   "cell_type": "code",
   "execution_count": 8,
   "id": "fab069da-e169-4ec1-963d-1e62fb6020d3",
   "metadata": {},
   "outputs": [
    {
     "data": {
      "text/html": [
       "<div>\n",
       "<style scoped>\n",
       "    .dataframe tbody tr th:only-of-type {\n",
       "        vertical-align: middle;\n",
       "    }\n",
       "\n",
       "    .dataframe tbody tr th {\n",
       "        vertical-align: top;\n",
       "    }\n",
       "\n",
       "    .dataframe thead th {\n",
       "        text-align: right;\n",
       "    }\n",
       "</style>\n",
       "<table border=\"1\" class=\"dataframe\">\n",
       "  <thead>\n",
       "    <tr style=\"text-align: right;\">\n",
       "      <th></th>\n",
       "      <th>No qualifications</th>\n",
       "      <th>Level 1 qualifications</th>\n",
       "      <th>Level 2 qualifications</th>\n",
       "      <th>Level 3 qualifications</th>\n",
       "      <th>Level 4 qualifications and above</th>\n",
       "      <th>Others</th>\n",
       "    </tr>\n",
       "  </thead>\n",
       "  <tbody>\n",
       "    <tr>\n",
       "      <th>count</th>\n",
       "      <td>2292.000000</td>\n",
       "      <td>2292.000000</td>\n",
       "      <td>2292.000000</td>\n",
       "      <td>2292.000000</td>\n",
       "      <td>2292.000000</td>\n",
       "      <td>2292.000000</td>\n",
       "    </tr>\n",
       "    <tr>\n",
       "      <th>mean</th>\n",
       "      <td>4191.299302</td>\n",
       "      <td>2131.392670</td>\n",
       "      <td>2255.698080</td>\n",
       "      <td>1697.728621</td>\n",
       "      <td>5007.466405</td>\n",
       "      <td>1661.503927</td>\n",
       "    </tr>\n",
       "    <tr>\n",
       "      <th>std</th>\n",
       "      <td>3046.237069</td>\n",
       "      <td>1153.874285</td>\n",
       "      <td>967.301657</td>\n",
       "      <td>769.936840</td>\n",
       "      <td>3054.518887</td>\n",
       "      <td>777.951760</td>\n",
       "    </tr>\n",
       "    <tr>\n",
       "      <th>min</th>\n",
       "      <td>235.000000</td>\n",
       "      <td>247.000000</td>\n",
       "      <td>198.000000</td>\n",
       "      <td>128.000000</td>\n",
       "      <td>490.000000</td>\n",
       "      <td>211.000000</td>\n",
       "    </tr>\n",
       "    <tr>\n",
       "      <th>25%</th>\n",
       "      <td>1621.750000</td>\n",
       "      <td>1183.750000</td>\n",
       "      <td>1546.750000</td>\n",
       "      <td>1012.750000</td>\n",
       "      <td>3031.750000</td>\n",
       "      <td>1145.750000</td>\n",
       "    </tr>\n",
       "    <tr>\n",
       "      <th>50%</th>\n",
       "      <td>3435.000000</td>\n",
       "      <td>1944.000000</td>\n",
       "      <td>2196.000000</td>\n",
       "      <td>1804.000000</td>\n",
       "      <td>4357.500000</td>\n",
       "      <td>1660.000000</td>\n",
       "    </tr>\n",
       "    <tr>\n",
       "      <th>75%</th>\n",
       "      <td>6255.250000</td>\n",
       "      <td>2834.500000</td>\n",
       "      <td>2837.000000</td>\n",
       "      <td>2251.250000</td>\n",
       "      <td>6252.000000</td>\n",
       "      <td>2102.250000</td>\n",
       "    </tr>\n",
       "    <tr>\n",
       "      <th>max</th>\n",
       "      <td>16661.000000</td>\n",
       "      <td>6357.000000</td>\n",
       "      <td>5415.000000</td>\n",
       "      <td>4023.000000</td>\n",
       "      <td>26067.000000</td>\n",
       "      <td>7062.000000</td>\n",
       "    </tr>\n",
       "  </tbody>\n",
       "</table>\n",
       "</div>"
      ],
      "text/plain": [
       "       No qualifications  Level 1 qualifications  Level 2 qualifications  \\\n",
       "count        2292.000000             2292.000000             2292.000000   \n",
       "mean         4191.299302             2131.392670             2255.698080   \n",
       "std          3046.237069             1153.874285              967.301657   \n",
       "min           235.000000              247.000000              198.000000   \n",
       "25%          1621.750000             1183.750000             1546.750000   \n",
       "50%          3435.000000             1944.000000             2196.000000   \n",
       "75%          6255.250000             2834.500000             2837.000000   \n",
       "max         16661.000000             6357.000000             5415.000000   \n",
       "\n",
       "       Level 3 qualifications  Level 4 qualifications and above       Others  \n",
       "count             2292.000000                       2292.000000  2292.000000  \n",
       "mean              1697.728621                       5007.466405  1661.503927  \n",
       "std                769.936840                       3054.518887   777.951760  \n",
       "min                128.000000                        490.000000   211.000000  \n",
       "25%               1012.750000                       3031.750000  1145.750000  \n",
       "50%               1804.000000                       4357.500000  1660.000000  \n",
       "75%               2251.250000                       6252.000000  2102.250000  \n",
       "max               4023.000000                      26067.000000  7062.000000  "
      ]
     },
     "execution_count": 8,
     "metadata": {},
     "output_type": "execute_result"
    }
   ],
   "source": [
    "data.describe()"
   ]
  },
  {
   "cell_type": "markdown",
   "id": "d0858ac0-2b6a-4681-8cf9-3b7206fd1543",
   "metadata": {},
   "source": [
    "## CONVERT THE DATASET IN THE FORM OF 2021 DATASET"
   ]
  },
  {
   "cell_type": "code",
   "execution_count": 9,
   "id": "f1828db5-8802-41cd-93bd-7ef21808b3e9",
   "metadata": {},
   "outputs": [],
   "source": [
    "df = data.copy()"
   ]
  },
  {
   "cell_type": "code",
   "execution_count": 10,
   "id": "14dc06ee-25da-476d-a8e5-2d8e806c28c8",
   "metadata": {},
   "outputs": [],
   "source": [
    "## For loop to pivot and merge different dataframe\n",
    "qualification_desciptions = df.columns[3:]\n",
    "qualification_code = range(0,6)"
   ]
  },
  {
   "cell_type": "code",
   "execution_count": 11,
   "id": "2d1667a4-f59d-4fcb-aa5e-d608ac73c454",
   "metadata": {},
   "outputs": [
    {
     "data": {
      "text/plain": [
       "Index(['No qualifications', 'Level 1 qualifications', 'Level 2 qualifications',\n",
       "       'Level 3 qualifications', 'Level 4 qualifications and above', 'Others'],\n",
       "      dtype='object')"
      ]
     },
     "execution_count": 11,
     "metadata": {},
     "output_type": "execute_result"
    }
   ],
   "source": [
    "qualification_desciptions"
   ]
  },
  {
   "cell_type": "code",
   "execution_count": 12,
   "id": "a59c5316-31de-4787-954a-a9ca6ae94d71",
   "metadata": {},
   "outputs": [
    {
     "data": {
      "text/plain": [
       "[0, 1, 2, 3, 4, 5]"
      ]
     },
     "execution_count": 12,
     "metadata": {},
     "output_type": "execute_result"
    }
   ],
   "source": [
    "list(qualification_code)"
   ]
  },
  {
   "cell_type": "code",
   "execution_count": 13,
   "id": "29a8dde8-1e03-46e2-bbf5-bd7f25621926",
   "metadata": {},
   "outputs": [],
   "source": [
    "final_df = pd.DataFrame()"
   ]
  },
  {
   "cell_type": "code",
   "execution_count": 14,
   "id": "50dd476a-aa6e-4e9a-8fc8-712755f9d769",
   "metadata": {},
   "outputs": [],
   "source": [
    "for index,description in enumerate(qualification_desciptions):\n",
    "    df_pivot = df.melt(id_vars=['Area Name', 'Area Code', 'Age Group'],\n",
    "                       value_vars=[description],\n",
    "                       var_name='Previous Qualification Column', \n",
    "                       value_name='Observations_2011')\n",
    "    \n",
    "    df_pivot['Qualification_Code_Description'] = description\n",
    "    df_pivot['Qualification_Code'] = qualification_code[index]\n",
    "    final_df = pd.concat([final_df,df_pivot])"
   ]
  },
  {
   "cell_type": "code",
   "execution_count": 15,
   "id": "228b1459-53af-4f70-8033-d0e534882f5f",
   "metadata": {},
   "outputs": [],
   "source": [
    "final_df.drop(columns=['Previous Qualification Column'],axis=1,inplace=True)"
   ]
  },
  {
   "cell_type": "code",
   "execution_count": 16,
   "id": "e9bfbbe0-e260-4dd8-baa2-8cdc9cc949fc",
   "metadata": {},
   "outputs": [],
   "source": [
    "final_df.reset_index(drop=True,inplace=True)"
   ]
  },
  {
   "cell_type": "code",
   "execution_count": 17,
   "id": "a475f66f-d8a9-46ea-93a7-84bf72255d66",
   "metadata": {},
   "outputs": [
    {
     "data": {
      "text/html": [
       "<div>\n",
       "<style scoped>\n",
       "    .dataframe tbody tr th:only-of-type {\n",
       "        vertical-align: middle;\n",
       "    }\n",
       "\n",
       "    .dataframe tbody tr th {\n",
       "        vertical-align: top;\n",
       "    }\n",
       "\n",
       "    .dataframe thead th {\n",
       "        text-align: right;\n",
       "    }\n",
       "</style>\n",
       "<table border=\"1\" class=\"dataframe\">\n",
       "  <thead>\n",
       "    <tr style=\"text-align: right;\">\n",
       "      <th></th>\n",
       "      <th>Area Name</th>\n",
       "      <th>Area Code</th>\n",
       "      <th>Age Group</th>\n",
       "      <th>Observations_2011</th>\n",
       "      <th>Qualification_Code_Description</th>\n",
       "      <th>Qualification_Code</th>\n",
       "    </tr>\n",
       "  </thead>\n",
       "  <tbody>\n",
       "    <tr>\n",
       "      <th>0</th>\n",
       "      <td>Berwick-upon-Tweed</td>\n",
       "      <td>E14000554</td>\n",
       "      <td>Age 25 to 34</td>\n",
       "      <td>723</td>\n",
       "      <td>No qualifications</td>\n",
       "      <td>0</td>\n",
       "    </tr>\n",
       "    <tr>\n",
       "      <th>1</th>\n",
       "      <td>Bishop Auckland</td>\n",
       "      <td>E14000569</td>\n",
       "      <td>Age 25 to 34</td>\n",
       "      <td>1208</td>\n",
       "      <td>No qualifications</td>\n",
       "      <td>0</td>\n",
       "    </tr>\n",
       "    <tr>\n",
       "      <th>2</th>\n",
       "      <td>Blaydon</td>\n",
       "      <td>E14000574</td>\n",
       "      <td>Age 25 to 34</td>\n",
       "      <td>743</td>\n",
       "      <td>No qualifications</td>\n",
       "      <td>0</td>\n",
       "    </tr>\n",
       "    <tr>\n",
       "      <th>3</th>\n",
       "      <td>Blyth Valley</td>\n",
       "      <td>E14000575</td>\n",
       "      <td>Age 25 to 34</td>\n",
       "      <td>898</td>\n",
       "      <td>No qualifications</td>\n",
       "      <td>0</td>\n",
       "    </tr>\n",
       "    <tr>\n",
       "      <th>4</th>\n",
       "      <td>City of Durham</td>\n",
       "      <td>E14000641</td>\n",
       "      <td>Age 25 to 34</td>\n",
       "      <td>905</td>\n",
       "      <td>No qualifications</td>\n",
       "      <td>0</td>\n",
       "    </tr>\n",
       "  </tbody>\n",
       "</table>\n",
       "</div>"
      ],
      "text/plain": [
       "            Area Name  Area Code     Age Group  Observations_2011  \\\n",
       "0  Berwick-upon-Tweed  E14000554  Age 25 to 34                723   \n",
       "1     Bishop Auckland  E14000569  Age 25 to 34               1208   \n",
       "2             Blaydon  E14000574  Age 25 to 34                743   \n",
       "3        Blyth Valley  E14000575  Age 25 to 34                898   \n",
       "4      City of Durham  E14000641  Age 25 to 34                905   \n",
       "\n",
       "  Qualification_Code_Description  Qualification_Code  \n",
       "0              No qualifications                   0  \n",
       "1              No qualifications                   0  \n",
       "2              No qualifications                   0  \n",
       "3              No qualifications                   0  \n",
       "4              No qualifications                   0  "
      ]
     },
     "execution_count": 17,
     "metadata": {},
     "output_type": "execute_result"
    }
   ],
   "source": [
    "final_df.head(5)"
   ]
  },
  {
   "cell_type": "code",
   "execution_count": 18,
   "id": "68cc14b7-714c-4e0f-88a7-294f2477cf90",
   "metadata": {},
   "outputs": [
    {
     "data": {
      "text/html": [
       "<div>\n",
       "<style scoped>\n",
       "    .dataframe tbody tr th:only-of-type {\n",
       "        vertical-align: middle;\n",
       "    }\n",
       "\n",
       "    .dataframe tbody tr th {\n",
       "        vertical-align: top;\n",
       "    }\n",
       "\n",
       "    .dataframe thead th {\n",
       "        text-align: right;\n",
       "    }\n",
       "</style>\n",
       "<table border=\"1\" class=\"dataframe\">\n",
       "  <thead>\n",
       "    <tr style=\"text-align: right;\">\n",
       "      <th></th>\n",
       "      <th>Observations_2011</th>\n",
       "      <th>Qualification_Code</th>\n",
       "    </tr>\n",
       "  </thead>\n",
       "  <tbody>\n",
       "    <tr>\n",
       "      <th>count</th>\n",
       "      <td>13752.000000</td>\n",
       "      <td>13752.000000</td>\n",
       "    </tr>\n",
       "    <tr>\n",
       "      <th>mean</th>\n",
       "      <td>2824.181501</td>\n",
       "      <td>2.500000</td>\n",
       "    </tr>\n",
       "    <tr>\n",
       "      <th>std</th>\n",
       "      <td>2313.981056</td>\n",
       "      <td>1.707887</td>\n",
       "    </tr>\n",
       "    <tr>\n",
       "      <th>min</th>\n",
       "      <td>128.000000</td>\n",
       "      <td>0.000000</td>\n",
       "    </tr>\n",
       "    <tr>\n",
       "      <th>25%</th>\n",
       "      <td>1409.000000</td>\n",
       "      <td>1.000000</td>\n",
       "    </tr>\n",
       "    <tr>\n",
       "      <th>50%</th>\n",
       "      <td>2167.000000</td>\n",
       "      <td>2.500000</td>\n",
       "    </tr>\n",
       "    <tr>\n",
       "      <th>75%</th>\n",
       "      <td>3434.250000</td>\n",
       "      <td>4.000000</td>\n",
       "    </tr>\n",
       "    <tr>\n",
       "      <th>max</th>\n",
       "      <td>26067.000000</td>\n",
       "      <td>5.000000</td>\n",
       "    </tr>\n",
       "  </tbody>\n",
       "</table>\n",
       "</div>"
      ],
      "text/plain": [
       "       Observations_2011  Qualification_Code\n",
       "count       13752.000000        13752.000000\n",
       "mean         2824.181501            2.500000\n",
       "std          2313.981056            1.707887\n",
       "min           128.000000            0.000000\n",
       "25%          1409.000000            1.000000\n",
       "50%          2167.000000            2.500000\n",
       "75%          3434.250000            4.000000\n",
       "max         26067.000000            5.000000"
      ]
     },
     "execution_count": 18,
     "metadata": {},
     "output_type": "execute_result"
    }
   ],
   "source": [
    "final_df.describe()"
   ]
  },
  {
   "cell_type": "code",
   "execution_count": 21,
   "id": "22743806-6fbf-48f8-8812-845670628acb",
   "metadata": {},
   "outputs": [
    {
     "data": {
      "text/plain": [
       "Qualification_Code_Description    Qualification_Code\n",
       "Level 1 qualifications            1                      4885152\n",
       "Level 2 qualifications            2                      5170060\n",
       "Level 3 qualifications            3                      3891194\n",
       "Level 4 qualifications and above  4                     11477113\n",
       "No qualifications                 0                      9606458\n",
       "Others                            5                      3808167\n",
       "Name: Observations_2011, dtype: int64"
      ]
     },
     "execution_count": 21,
     "metadata": {},
     "output_type": "execute_result"
    }
   ],
   "source": [
    "final_df.groupby(['Qualification_Code_Description','Qualification_Code'])['Observations_2011'].sum()"
   ]
  },
  {
   "cell_type": "code",
   "execution_count": 22,
   "id": "b005e588-5b02-46da-8b75-4bfc5e5eca05",
   "metadata": {},
   "outputs": [],
   "source": [
    "final_df['Qualification_Code'] = final_df['Qualification_Code'].apply(lambda val: -8 if val == 0 else (0 if val == 5 else val))"
   ]
  },
  {
   "cell_type": "code",
   "execution_count": 23,
   "id": "fe9cf134-f01b-4e91-8fb4-b326248ba54c",
   "metadata": {},
   "outputs": [
    {
     "data": {
      "text/plain": [
       "Qualification_Code_Description    Qualification_Code\n",
       "Level 1 qualifications             1                     4885152\n",
       "Level 2 qualifications             2                     5170060\n",
       "Level 3 qualifications             3                     3891194\n",
       "Level 4 qualifications and above   4                    11477113\n",
       "No qualifications                 -8                     9606458\n",
       "Others                             0                     3808167\n",
       "Name: Observations_2011, dtype: int64"
      ]
     },
     "execution_count": 23,
     "metadata": {},
     "output_type": "execute_result"
    }
   ],
   "source": [
    "final_df.groupby(['Qualification_Code_Description','Qualification_Code'])['Observations_2011'].sum()"
   ]
  },
  {
   "cell_type": "code",
   "execution_count": 24,
   "id": "87e6508a-8d6c-4956-bf40-cd22eb4aad29",
   "metadata": {},
   "outputs": [],
   "source": [
    "final_df.to_csv('./Results/2011_Westminster_Age_HighestQualification.csv',index=False)"
   ]
  },
  {
   "cell_type": "code",
   "execution_count": null,
   "id": "e54dc729-df10-4ba5-9f06-1f978578dd49",
   "metadata": {},
   "outputs": [],
   "source": []
  }
 ],
 "metadata": {
  "kernelspec": {
   "display_name": "Python 3",
   "language": "python",
   "name": "python3"
  },
  "language_info": {
   "codemirror_mode": {
    "name": "ipython",
    "version": 3
   },
   "file_extension": ".py",
   "mimetype": "text/x-python",
   "name": "python",
   "nbconvert_exporter": "python",
   "pygments_lexer": "ipython3",
   "version": "3.8.8"
  }
 },
 "nbformat": 4,
 "nbformat_minor": 5
}
